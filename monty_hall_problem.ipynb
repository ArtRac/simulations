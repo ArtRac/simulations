{
 "cells": [
  {
   "cell_type": "markdown",
   "metadata": {},
   "source": [
    "# Monty Hall problem\n",
    "\n",
    "https://en.wikipedia.org/wiki/Monty_Hall_problem"
   ]
  },
  {
   "cell_type": "code",
   "execution_count": 137,
   "metadata": {},
   "outputs": [
    {
     "name": "stdout",
     "output_type": "stream",
     "text": [
      "Probability of wining:\n",
      " Fool player: 0.35\n",
      " Smart player: 0.73\n"
     ]
    }
   ],
   "source": [
    "import random\n",
    "\n",
    "def fool_player(x: int):\n",
    "    # Makes only one choice.    \n",
    "    choice_1 = random.choice([1,2,3])\n",
    "    return choice_1\n",
    "\n",
    "def smart_player(x: int):\n",
    "    # First choice.\n",
    "    choice_1 = random.choice([1,2,3])\n",
    "    # Opening empty door.\n",
    "    opened = list(filter(lambda door: door not in [x,choice_1], [1,2,3]))[0]\n",
    "    # Player change choice.\n",
    "    choice_2 = list(filter(lambda door: door not in [opened,choice_1],[1,2,3]))[0]\n",
    "    return choice_2\n",
    "\n",
    "random_list = [random.randint(1, 3) for _ in range(100)]\n",
    "\n",
    "fool_player_result = len(list(filter(lambda x: fool_player(x)==x, random_list)))\n",
    "smart_player_result = len(list(filter(lambda x: smart_player(x)==x, random_list)))\n",
    "\n",
    "print(\"Probability of wining:\")\n",
    "print(\" Fool player: \"+str(fool_player_result/len(random_list)))\n",
    "print(\" Smart player: \"+str(smart_player_result/len(random_list)))\n",
    "\n"
   ]
  }
 ],
 "metadata": {
  "kernelspec": {
   "display_name": "Python 3",
   "language": "python",
   "name": "python3"
  },
  "language_info": {
   "codemirror_mode": {
    "name": "ipython",
    "version": 3
   },
   "file_extension": ".py",
   "mimetype": "text/x-python",
   "name": "python",
   "nbconvert_exporter": "python",
   "pygments_lexer": "ipython3",
   "version": "3.10.12"
  }
 },
 "nbformat": 4,
 "nbformat_minor": 2
}
