{
 "cells": [
  {
   "cell_type": "markdown",
   "metadata": {},
   "source": [
    "Ćwiczenie z operacji na strumieniach."
   ]
  },
  {
   "cell_type": "markdown",
   "metadata": {},
   "source": [
    "map(), filter(), sorted(), sort()"
   ]
  },
  {
   "cell_type": "code",
   "execution_count": 20,
   "metadata": {},
   "outputs": [
    {
     "name": "stdout",
     "output_type": "stream",
     "text": [
      "[9, 2, 3, 4]\n",
      "[81, 4, 9, 16]\n",
      "[2, 4]\n",
      "[2, 3, 4, 9]\n",
      "[9, 2, 3, 4]\n",
      "[2, 3, 4, 9]\n",
      "[9, 4, 3, 2]\n"
     ]
    }
   ],
   "source": [
    "from functools import reduce\n",
    "\n",
    "result = [9,2,3,4]\n",
    "print(list(result))\n",
    "\n",
    "print(list(map(lambda x: x*x, result)))\n",
    "\n",
    "print(list(filter(lambda x: x%2==0, result)))\n",
    "\n",
    "print(sorted(result))\n",
    "print(result)\n",
    "\n",
    "result.sort()\n",
    "print(result)\n",
    "\n",
    "result.sort(reverse=True)\n",
    "print(result)\n"
   ]
  },
  {
   "cell_type": "markdown",
   "metadata": {},
   "source": [
    "groupby()"
   ]
  },
  {
   "cell_type": "code",
   "execution_count": 7,
   "metadata": {},
   "outputs": [
    {
     "name": "stdout",
     "output_type": "stream",
     "text": [
      "[('A', 1), ('B', 2), ('A', 3), ('B', 4)]\n",
      "A\n",
      "[('A', 1), ('A', 3)]\n",
      "B\n",
      "[('B', 2), ('B', 4)]\n"
     ]
    }
   ],
   "source": [
    "import itertools\n",
    "\n",
    "result2 = [(\"A\",1),(\"B\",2),(\"A\",3),(\"B\",4)]\n",
    "print(result2)\n",
    "func = lambda x:x[0]\n",
    "\n",
    "grouped = itertools.groupby(sorted(result2,key=func), func)\n",
    "\n",
    "for key, result in grouped:\n",
    "    print(key)\n",
    "    print(list(result))\n"
   ]
  }
 ],
 "metadata": {
  "kernelspec": {
   "display_name": "Python 3",
   "language": "python",
   "name": "python3"
  },
  "language_info": {
   "codemirror_mode": {
    "name": "ipython",
    "version": 3
   },
   "file_extension": ".py",
   "mimetype": "text/x-python",
   "name": "python",
   "nbconvert_exporter": "python",
   "pygments_lexer": "ipython3",
   "version": "3.10.12"
  }
 },
 "nbformat": 4,
 "nbformat_minor": 2
}
