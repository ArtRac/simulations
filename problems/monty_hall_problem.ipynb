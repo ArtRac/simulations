{
 "cells": [
  {
   "cell_type": "markdown",
   "metadata": {},
   "source": [
    "# Monty Hall problem  \n",
    "\"Let's Make a Deal\"\n",
    "\n",
    "https://en.wikipedia.org/wiki/Monty_Hall_problem"
   ]
  },
  {
   "cell_type": "code",
   "execution_count": 13,
   "metadata": {},
   "outputs": [
    {
     "name": "stdout",
     "output_type": "stream",
     "text": [
      "Probability of wining:\n",
      " Fool player: 0.28\n",
      " Smart player: 0.66\n"
     ]
    }
   ],
   "source": [
    "import random\n",
    "\n",
    "DOORS = [1,2,3]\n",
    "TEST_SIZE = 100\n",
    "RANDOM_LIST = [random.choice(DOORS) for _ in range(TEST_SIZE)]\n",
    "\n",
    "def fool_player(door_with_prize: int):\n",
    "    # Makes only one choice.    \n",
    "    choice_1 = random.choice(DOORS)\n",
    "    return choice_1\n",
    "\n",
    "def smart_player(door_with_prize: int):\n",
    "    # First choice.\n",
    "    choice_1 = random.choice(DOORS)\n",
    "    # Opening empty door.\n",
    "    opened = list(filter(lambda door: door not in [door_with_prize,choice_1], DOORS))[0]\n",
    "    # Player changed choice.\n",
    "    choice_2 = list(filter(lambda door: door not in [opened,choice_1],DOORS))[0]\n",
    "    return choice_2\n",
    "\n",
    "\n",
    "if __name__ == \"__main__\":\n",
    "    fool_player_wins = list(filter(lambda x: fool_player(x)==x, RANDOM_LIST))\n",
    "    smart_player_wins = list(filter(lambda x: smart_player(x)==x, RANDOM_LIST))\n",
    "\n",
    "    fool_player_chance_to_win = len(fool_player_wins)/TEST_SIZE\n",
    "    smart_player_chance_to_win = len(smart_player_wins)/TEST_SIZE\n",
    "\n",
    "    print(\"Probability of wining:\")\n",
    "    print(\" Fool player: %.2f\" % fool_player_chance_to_win)\n",
    "    print(\" Smart player: %.2f\" % smart_player_chance_to_win)"
   ]
  }
 ],
 "metadata": {
  "kernelspec": {
   "display_name": "Python 3",
   "language": "python",
   "name": "python3"
  },
  "language_info": {
   "codemirror_mode": {
    "name": "ipython",
    "version": 3
   },
   "file_extension": ".py",
   "mimetype": "text/x-python",
   "name": "python",
   "nbconvert_exporter": "python",
   "pygments_lexer": "ipython3",
   "version": "3.10.12"
  }
 },
 "nbformat": 4,
 "nbformat_minor": 2
}
