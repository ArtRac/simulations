{
 "cells": [
  {
   "cell_type": "markdown",
   "metadata": {},
   "source": [
    "# Birthday problem\n",
    "https://en.wikipedia.org/wiki/Birthday_problem"
   ]
  },
  {
   "cell_type": "markdown",
   "metadata": {},
   "source": [
    "Jak liczna musi być grupa osób, aby prawdopodobieństwo znalezienia w niej dwóch osób obchodzących urodziny tego samego dnia było równe co najmniej 1/2?"
   ]
  },
  {
   "cell_type": "code",
   "execution_count": 38,
   "metadata": {},
   "outputs": [
    {
     "name": "stdout",
     "output_type": "stream",
     "text": [
      "Wynik: 23\n"
     ]
    }
   ],
   "source": [
    "import random\n",
    "\n",
    "TEST_SIZE = 3500 # What value is optimal?\n",
    "\n",
    "def test_problem(group_size: int):\n",
    "    success_counter = 0\n",
    "    group = []\n",
    "    for _ in range(TEST_SIZE):\n",
    "        group = [random.randint(1,365) for _ in range(group_size)]  \n",
    "        # Are any value repeats?\n",
    "        if len(set(group)) < group_size:\n",
    "            success_counter+=1\n",
    "    return success_counter/TEST_SIZE\n",
    "\n",
    "\n",
    "if __name__ == \"__main__\":\n",
    "    group_size = 1\n",
    "\n",
    "    while test_problem(group_size)<0.5:\n",
    "        group_size += 1\n",
    "\n",
    "    print(\"Wynik: %d\" % group_size)"
   ]
  }
 ],
 "metadata": {
  "kernelspec": {
   "display_name": "Python 3",
   "language": "python",
   "name": "python3"
  },
  "language_info": {
   "codemirror_mode": {
    "name": "ipython",
    "version": 3
   },
   "file_extension": ".py",
   "mimetype": "text/x-python",
   "name": "python",
   "nbconvert_exporter": "python",
   "pygments_lexer": "ipython3",
   "version": "3.10.12"
=======
   "cell_type": "code",
   "execution_count": null,
   "metadata": {},
   "outputs": [],
   "source": []
  }
 ],
 "metadata": {
  "language_info": {
   "name": "python"
>>>>>>> 31bfb88 (.)
  }
 },
 "nbformat": 4,
 "nbformat_minor": 2
}
