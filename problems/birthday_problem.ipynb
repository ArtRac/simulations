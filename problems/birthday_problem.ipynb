{
 "cells": [
  {
   "cell_type": "markdown",
   "metadata": {},
   "source": [
    "# Birthday problem\n",
    "https://en.wikipedia.org/wiki/Birthday_problem"
   ]
  },
  {
<<<<<<< HEAD
   "cell_type": "markdown",
   "metadata": {},
   "source": [
    "Jak liczna musi być grupa osób, aby prawdopodobieństwo znalezienia w niej dwóch osób obchodzących urodziny tego samego dnia było równe co najmniej 1/2?"
   ]
  },
  {
   "cell_type": "code",
   "execution_count": 37,
   "metadata": {},
   "outputs": [
    {
     "name": "stdout",
     "output_type": "stream",
     "text": [
      "Wynik 23\n"
     ]
    }
   ],
   "source": [
    "import random\n",
    "\n",
    "TEST_SIZE = 5000 # Jak dobrze ustalać tę wartość?\n",
    "\n",
    "def test_problem(group_size: int):\n",
    "    success_counter = 0\n",
    "    group = []\n",
    "    for _ in range(TEST_SIZE):\n",
    "        # wylosuj listę o rozmiarze group_size liczb z zakresu 1-365\n",
    "        group = [random.randint(1,365) for _ in range(group_size)]  \n",
    "        # czy wartości się powtarzają?\n",
    "        if len(set(group))<group_size:\n",
    "            # jeśli tak success_counter+=1\n",
    "            success_counter+=1\n",
    "    return success_counter/TEST_SIZE\n",
    "\n",
    "\n",
    "if __name__ == \"__main__\":\n",
    "    # W pętli zwiększaj wielkość grupy aż średnia z testów dla danej\n",
    "    # wielkości grupy przekroczy 0.5.\n",
    "    group_size = 0\n",
    "    while test_problem(group_size)<0.5:\n",
    "        group_size += 1\n",
    "\n",
    "    print(\"Wynik %d\" % group_size)"
   ]
  }
 ],
 "metadata": {
  "kernelspec": {
   "display_name": "Python 3",
   "language": "python",
   "name": "python3"
  },
  "language_info": {
   "codemirror_mode": {
    "name": "ipython",
    "version": 3
   },
   "file_extension": ".py",
   "mimetype": "text/x-python",
   "name": "python",
   "nbconvert_exporter": "python",
   "pygments_lexer": "ipython3",
   "version": "3.10.12"
=======
   "cell_type": "code",
   "execution_count": null,
   "metadata": {},
   "outputs": [],
   "source": []
  }
 ],
 "metadata": {
  "language_info": {
   "name": "python"
>>>>>>> 31bfb88 (.)
  }
 },
 "nbformat": 4,
 "nbformat_minor": 2
}
